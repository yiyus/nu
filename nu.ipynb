{
 "cells": [
  {
   "cell_type": "code",
   "execution_count": 1,
   "id": "be4e8768",
   "metadata": {},
   "outputs": [
    {
     "data": {
      "text/html": [
       "<pre class=\"language-APL\">clear ws\n",
       "</pre>"
      ]
     },
     "execution_count": 1,
     "metadata": {},
     "output_type": "execute_result"
    }
   ],
   "source": [
    ")clear"
   ]
  },
  {
   "cell_type": "markdown",
   "id": "d225ecae",
   "metadata": {},
   "source": [
    "# Not Unix\n",
    "\n",
    "These are not your old UNIX tools."
   ]
  },
  {
   "cell_type": "markdown",
   "id": "f53dc060",
   "metadata": {},
   "source": [
    "## File management\n",
    "\n",
    "All these functions take as right argument a file (or directory) name or a list of file (or directory) names, with the exception of `cd` for which only directory names are allowed. The `pushd` operator allows to run a function inside a directory and return to the current one."
   ]
  },
  {
   "cell_type": "markdown",
   "id": "a2e920c9",
   "metadata": {},
   "source": [
    "### cd\n",
    "\n",
    "Change working directory. If various directories are given, change to them sequentially, first the ones given as left argument, then the ones given as left argument, if any. Returns previous working directory when used monadically, and new working directory when used dyadically."
   ]
  },
  {
   "cell_type": "code",
   "execution_count": 2,
   "id": "50d12952",
   "metadata": {},
   "outputs": [],
   "source": [
    "'Files'⎕CY'files'"
   ]
  },
  {
   "cell_type": "code",
   "execution_count": 3,
   "id": "647ec1bb",
   "metadata": {},
   "outputs": [],
   "source": [
    "∇ r←{a}cd w\n",
    "    r←Files.GetCurrentDirectory ⋄ Files.SetCurrentDirectory¨⊆w\n",
    "    :If 0≠⎕NC'a'\n",
    "        Files.SetCurrentDirectory¨⊆a ⋄ r←Files.GetCurrentDirectory\n",
    "    :EndIf\n",
    "∇"
   ]
  },
  {
   "cell_type": "code",
   "execution_count": 4,
   "id": "b2500a62",
   "metadata": {
    "scrolled": true
   },
   "outputs": [
    {
     "data": {
      "text/html": [
       "<pre class=\"language-APL\">C:\\Users\\34696\\jupyter\\nu\n",
       "</pre>"
      ]
     },
     "execution_count": 4,
     "metadata": {},
     "output_type": "execute_result"
    },
    {
     "data": {
      "text/html": [
       "<pre class=\"language-APL\">C:\\windows\\system32\n",
       "</pre>"
      ]
     },
     "execution_count": 4,
     "metadata": {},
     "output_type": "execute_result"
    },
    {
     "data": {
      "text/html": [
       "<pre class=\"language-APL\">C:\\Users\\34696\\jupyter\\nu\n",
       "</pre>"
      ]
     },
     "execution_count": 4,
     "metadata": {},
     "output_type": "execute_result"
    },
    {
     "data": {
      "text/html": [
       "<pre class=\"language-APL\">C:\\windows\\system32\n",
       "</pre>"
      ]
     },
     "execution_count": 4,
     "metadata": {},
     "output_type": "execute_result"
    },
    {
     "data": {
      "text/html": [
       "<pre class=\"language-APL\">C:\\Users\\34696\\jupyter\\nu\n",
       "</pre>"
      ]
     },
     "execution_count": 4,
     "metadata": {},
     "output_type": "execute_result"
    }
   ],
   "source": [
    "cd'.'                         ⍝ get current working dir\n",
    "wd←cd'..'                     ⍝ go to parent storing current working dir\n",
    "'system32'cd'windows'cd'/'    ⍝ cd to /, then to windows, then to system 32\n",
    "'.'cd wd                      ⍝ cd to previous working dir and return new working dir\n",
    "'.'cd'/' 'windows' 'system32' ⍝ cd to /, then to windows, then to system 32 and return new working dir\n",
    "'.'cd wd                      ⍝ cd to previous working dir and return new working dir"
   ]
  },
  {
   "cell_type": "markdown",
   "id": "f7a7eea1",
   "metadata": {},
   "source": [
    "### pushd\n",
    "\n",
    "Run function given as left operand, with right argument and optional left argument, in directory given as right operand."
   ]
  },
  {
   "cell_type": "code",
   "execution_count": 5,
   "id": "396bf76c",
   "metadata": {},
   "outputs": [],
   "source": [
    "pushd←{⍺←⊢ ⋄ d←cd⍵⍵ ⋄ r←⍺ ⍺⍺ ⍵ ⋄ _←cd d ⋄ r}"
   ]
  },
  {
   "cell_type": "code",
   "execution_count": 6,
   "id": "3def7882",
   "metadata": {
    "scrolled": true
   },
   "outputs": [
    {
     "data": {
      "text/html": [
       "<pre class=\"language-APL\">C:\\Users\\34696\\jupyter\\nu\n",
       "</pre>"
      ]
     },
     "execution_count": 6,
     "metadata": {},
     "output_type": "execute_result"
    },
    {
     "data": {
      "text/html": [
       "<pre class=\"language-APL\">C:\\Users\\34696\\jupyter\\nu\\.git\n",
       "</pre>"
      ]
     },
     "execution_count": 6,
     "metadata": {},
     "output_type": "execute_result"
    },
    {
     "data": {
      "text/html": [
       "<pre class=\"language-APL\">C:\\Users\\34696\\jupyter\\nu\n",
       "</pre>"
      ]
     },
     "execution_count": 6,
     "metadata": {},
     "output_type": "execute_result"
    }
   ],
   "source": [
    "cd'.'\n",
    "cd pushd'.git'⊢'.'\n",
    "cd'.'"
   ]
  },
  {
   "cell_type": "markdown",
   "id": "e64fa94a",
   "metadata": {},
   "source": [
    "### ls\n",
    "\n",
    "List contents relative to given directory, default current working directory."
   ]
  },
  {
   "cell_type": "code",
   "execution_count": 7,
   "id": "25d29fb5",
   "metadata": {},
   "outputs": [],
   "source": [
    "ls←{⍺←0 ⋄ 2({'/',⍨¨@((1=⍵)⍨)⍺}/⍤↑,↓)⊃,¨/0 1 2 3 5∘(⎕NINFO⍠1⍠'Recurse'(2⍺))¨(⊂'../*')@(≡∘'..'¨)'*'@(≡∘'.'¨)⊆⍵}"
   ]
  },
  {
   "cell_type": "code",
   "execution_count": 8,
   "id": "e2ccef00",
   "metadata": {},
   "outputs": [],
   "source": [
    "]dinput\n",
    "ls←{\n",
    "    0≠⎕NC'⍺':⊃,¨/⍺∇{⍺⍺pushd⍺⊢⍵}¨⍥⊆⍵\n",
    "    2({'/',⍨¨@((1=⍵)⍨)⍺}/⍤↑,↓)⊃,¨/0 1 2 3 5∘(⎕NINFO⍠1)¨(⊂'../*')@(≡∘'..'¨)'*'@(≡∘'.'¨)⊆⍵\n",
    "}"
   ]
  },
  {
   "cell_type": "code",
   "execution_count": 9,
   "id": "dd107637",
   "metadata": {
    "scrolled": true
   },
   "outputs": [
    {
     "data": {
      "text/html": [
       "<pre class=\"language-APL\">┌─────────────────────┬─────┬─────────────────────┬────────┐\n",
       "│names                │bytes│modified             │owner   │\n",
       "├─────────────────────┼─────┼─────────────────────┼────────┤\n",
       "│.apl-package.json.swp│12288│2024 3 9  0 22 48 790│YYOGA\\yy│\n",
       "│.git/                │    0│2024 3 9 14  3 17 501│YYOGA\\yy│\n",
       "│.gitattributes       │   29│2024 3 8 19 18 46 634│YYOGA\\yy│\n",
       "│.gitignore           │   37│2024 3 9 13 47 21 708│YYOGA\\yy│\n",
       "│.ipynb_checkpoints/  │    0│2024 3 8 19 23 20 425│YYOGA\\yy│\n",
       "│apl-package.json     │  482│2024 3 8 22 58 40 440│YYOGA\\yy│\n",
       "│LICENSE              │ 1062│2024 3 9  0 17  2 317│YYOGA\\yy│\n",
       "│nu.apln              │ 5734│2024 3 9 14  2  3 257│YYOGA\\yy│\n",
       "│nu.ipynb             │70764│2024 3 9 14  2 37 464│YYOGA\\yy│\n",
       "│README.md            │ 4305│2024 3 9 14  2  3  88│YYOGA\\yy│\n",
       "└─────────────────────┴─────┴─────────────────────┴────────┘\n",
       "</pre>"
      ]
     },
     "execution_count": 9,
     "metadata": {},
     "output_type": "execute_result"
    }
   ],
   "source": [
    "'names' 'bytes' 'modified' 'owner'⍪[÷2]⍪∘↑¨(names bytes modified owner)←ls'*' ⍝ add header"
   ]
  },
  {
   "cell_type": "code",
   "execution_count": 10,
   "id": "21a8bad2",
   "metadata": {
    "scrolled": false
   },
   "outputs": [
    {
     "data": {
      "text/html": [
       "<pre class=\"language-APL\">┌─────────────────────┬─────┬─────────────────────┬────────┐\n",
       "│.apl-package.json.swp│12288│2024 3 9  0 22 48 790│YYOGA\\yy│\n",
       "│.git/                │    0│2024 3 9 14  3 17 501│YYOGA\\yy│\n",
       "│.gitattributes       │   29│2024 3 8 19 18 46 634│YYOGA\\yy│\n",
       "│.gitignore           │   37│2024 3 9 13 47 21 708│YYOGA\\yy│\n",
       "│.ipynb_checkpoints/  │    0│2024 3 8 19 23 20 425│YYOGA\\yy│\n",
       "│apl-package.json     │  482│2024 3 8 22 58 40 440│YYOGA\\yy│\n",
       "│LICENSE              │ 1062│2024 3 9  0 17  2 317│YYOGA\\yy│\n",
       "│nu.apln              │ 5734│2024 3 9 14  2  3 257│YYOGA\\yy│\n",
       "│nu.ipynb             │70764│2024 3 9 14  2 37 464│YYOGA\\yy│\n",
       "│README.md            │ 4305│2024 3 9 14  2  3  88│YYOGA\\yy│\n",
       "│.git/branches/       │    0│2024 3 8 19 18 37 462│YYOGA\\yy│\n",
       "│.git/COMMIT_EDITMSG  │   36│2024 3 9 14  3 17 485│YYOGA\\yy│\n",
       "│.git/config          │  286│2024 3 9 13 50  1 279│YYOGA\\yy│\n",
       "│.git/description     │   73│2024 3 8 19 18 37 468│YYOGA\\yy│\n",
       "│.git/HEAD            │   21│2024 3 9 13 49 54 636│YYOGA\\yy│\n",
       "│.git/hooks/          │    0│2024 3 8 19 18 37 535│YYOGA\\yy│\n",
       "│.git/index           │  593│2024 3 9 14  3 17 477│YYOGA\\yy│\n",
       "│.git/info/           │    0│2024 3 8 19 18 37 539│YYOGA\\yy│\n",
       "│.git/logs/           │    0│2024 3 9  0 15  3 382│YYOGA\\yy│\n",
       "│.git/objects/        │    0│2024 3 9 14  3 17 521│YYOGA\\yy│\n",
       "│.git/refs/           │    0│2024 3 9 13 50  1 283│YYOGA\\yy│\n",
       "└─────────────────────┴─────┴─────────────────────┴────────┘\n",
       "</pre>"
      ]
     },
     "execution_count": 10,
     "metadata": {},
     "output_type": "execute_result"
    }
   ],
   "source": [
    "⍪∘↑¨ls'*' '.git/*' ⍝ more than one target"
   ]
  },
  {
   "cell_type": "code",
   "execution_count": 11,
   "id": "d398fc01",
   "metadata": {},
   "outputs": [
    {
     "data": {
      "text/html": [
       "<pre class=\"language-APL\">┌─────────────────────┬─────┬─────────────────────┬────────┐\n",
       "│.apl-package.json.swp│12288│2024 3 9 0 22 48 790 │YYOGA\\yy│\n",
       "├─────────────────────┼─────┼─────────────────────┼────────┤\n",
       "│.git/                │0    │2024 3 9 14 3 17 501 │YYOGA\\yy│\n",
       "├─────────────────────┼─────┼─────────────────────┼────────┤\n",
       "│.gitattributes       │29   │2024 3 8 19 18 46 634│YYOGA\\yy│\n",
       "├─────────────────────┼─────┼─────────────────────┼────────┤\n",
       "│.gitignore           │37   │2024 3 9 13 47 21 708│YYOGA\\yy│\n",
       "├─────────────────────┼─────┼─────────────────────┼────────┤\n",
       "│.ipynb_checkpoints/  │0    │2024 3 8 19 23 20 425│YYOGA\\yy│\n",
       "├─────────────────────┼─────┼─────────────────────┼────────┤\n",
       "│apl-package.json     │482  │2024 3 8 22 58 40 440│YYOGA\\yy│\n",
       "├─────────────────────┼─────┼─────────────────────┼────────┤\n",
       "│LICENSE              │1062 │2024 3 9 0 17 2 317  │YYOGA\\yy│\n",
       "├─────────────────────┼─────┼─────────────────────┼────────┤\n",
       "│nu.apln              │5734 │2024 3 9 14 2 3 257  │YYOGA\\yy│\n",
       "├─────────────────────┼─────┼─────────────────────┼────────┤\n",
       "│nu.ipynb             │70764│2024 3 9 14 2 37 464 │YYOGA\\yy│\n",
       "├─────────────────────┼─────┼─────────────────────┼────────┤\n",
       "│README.md            │4305 │2024 3 9 14 2 3 88   │YYOGA\\yy│\n",
       "└─────────────────────┴─────┴─────────────────────┴────────┘\n",
       "</pre>"
      ]
     },
     "execution_count": 11,
     "metadata": {},
     "output_type": "execute_result"
    }
   ],
   "source": [
    "⍉↑ls'.' ⍝ as table"
   ]
  },
  {
   "cell_type": "code",
   "execution_count": 12,
   "id": "1612ff33",
   "metadata": {
    "scrolled": false
   },
   "outputs": [
    {
     "data": {
      "text/html": [
       "<pre class=\"language-APL\">┌─────────────────────┬───────────────────────────┐\n",
       "│.apl-package.json.swp│../nu/.apl-package.json.swp│\n",
       "│.git/                │../nu/.git/                │\n",
       "│.gitattributes       │../nu/.gitattributes       │\n",
       "│.gitignore           │../nu/.gitignore           │\n",
       "│.ipynb_checkpoints/  │../nu/.ipynb_checkpoints/  │\n",
       "│apl-package.json     │../nu/apl-package.json     │\n",
       "│LICENSE              │../nu/LICENSE              │\n",
       "│nu.apln              │../nu/nu.apln              │\n",
       "│nu.ipynb             │../nu/nu.ipynb             │\n",
       "│README.md            │../nu/README.md            │\n",
       "└─────────────────────┴───────────────────────────┘\n",
       "</pre>"
      ]
     },
     "execution_count": 12,
     "metadata": {},
     "output_type": "execute_result"
    }
   ],
   "source": [
    "⍪∘↑∘⊃¨('../nu'ls'*')(ls'../nu/*')  ⍝ notice the difference"
   ]
  },
  {
   "cell_type": "markdown",
   "id": "318bb38e",
   "metadata": {},
   "source": [
    "### mkdir\n",
    "\n",
    "Make directories, including parents, optionally inside an existing directory."
   ]
  },
  {
   "cell_type": "code",
   "execution_count": 13,
   "id": "8d1cc422",
   "metadata": {},
   "outputs": [],
   "source": [
    "mkdir←{0≠⎕NC'⍺':_←+/∇pushd⍺¨⊆⍵ ⋄ _←+/3⎕MKDIR¨⊆⍵}"
   ]
  },
  {
   "cell_type": "code",
   "execution_count": 14,
   "id": "904c8ce8",
   "metadata": {},
   "outputs": [
    {
     "data": {
      "text/html": [
       "<pre class=\"language-APL\">1\n",
       "</pre>"
      ]
     },
     "execution_count": 14,
     "metadata": {},
     "output_type": "execute_result"
    },
    {
     "data": {
      "text/html": [
       "<pre class=\"language-APL\">2\n",
       "</pre>"
      ]
     },
     "execution_count": 14,
     "metadata": {},
     "output_type": "execute_result"
    },
    {
     "data": {
      "text/html": [
       "<pre class=\"language-APL\">┌────────┬─┬─────────────────────┬────────┐\n",
       "│test/t1/│0│2024 3 9 17 17 17 964│YYOGA\\yy│\n",
       "│test/t2/│0│2024 3 9 17 17 17 965│YYOGA\\yy│\n",
       "└────────┴─┴─────────────────────┴────────┘\n",
       "</pre>"
      ]
     },
     "execution_count": 14,
     "metadata": {},
     "output_type": "execute_result"
    }
   ],
   "source": [
    "⊢mkdir'test'\n",
    "⊢'test'mkdir't1' 't2'\n",
    "⍪∘↑¨ls'test/*'"
   ]
  },
  {
   "cell_type": "markdown",
   "id": "f4d18c0b",
   "metadata": {},
   "source": [
    "### cp\n",
    "\n",
    "Copy files to given target, or current working directory by default."
   ]
  },
  {
   "cell_type": "code",
   "execution_count": 15,
   "id": "3ba5defe",
   "metadata": {},
   "outputs": [],
   "source": [
    "cp←{⍺←'.' ⋄ _←⊃+/(⊆⍺)(⎕NCOPY⍠'IfExists' 'Replace')¨⊃,/(⎕NINFO⍠'Wildcard'1)¨⊆⍵}"
   ]
  },
  {
   "cell_type": "code",
   "execution_count": 16,
   "id": "19e0e541",
   "metadata": {},
   "outputs": [
    {
     "data": {
      "text/html": [
       "<pre class=\"language-APL\">1\n",
       "</pre>"
      ]
     },
     "execution_count": 16,
     "metadata": {},
     "output_type": "execute_result"
    }
   ],
   "source": [
    "⊢'test/rm.md'cp'README.md'"
   ]
  },
  {
   "cell_type": "code",
   "execution_count": 17,
   "id": "836405ff",
   "metadata": {
    "scrolled": true
   },
   "outputs": [
    {
     "data": {
      "text/html": [
       "<pre class=\"language-APL\">1\n",
       "</pre>"
      ]
     },
     "execution_count": 17,
     "metadata": {},
     "output_type": "execute_result"
    }
   ],
   "source": [
    "⊢cp'test/rm.md'"
   ]
  },
  {
   "cell_type": "code",
   "execution_count": 18,
   "id": "ada745f6",
   "metadata": {
    "scrolled": true
   },
   "outputs": [
    {
     "data": {
      "text/html": [
       "<pre class=\"language-APL\">┌─────┬────┬─────────────────────┬────────┐\n",
       "│rm.md│4305│2024 3 9 17 17 18 451│YYOGA\\yy│\n",
       "└─────┴────┴─────────────────────┴────────┘\n",
       "</pre>"
      ]
     },
     "execution_count": 18,
     "metadata": {},
     "output_type": "execute_result"
    }
   ],
   "source": [
    "⍪∘↑¨ls'rm.md'"
   ]
  },
  {
   "cell_type": "markdown",
   "id": "e1cf7b6e",
   "metadata": {},
   "source": [
    "### mv\n",
    "\n",
    "Move files and directories. By default, move them to `/dev/null`, removing them."
   ]
  },
  {
   "cell_type": "code",
   "execution_count": 19,
   "id": "1d5ab704",
   "metadata": {},
   "outputs": [],
   "source": [
    "mv←{0=⎕NC'⍺':_←⊃+/3⎕NDELETE⍠1¨⊆⍵ ⋄ _←⊃+/(⊆⍺)⎕NMOVE¨⊃,/(⎕NINFO⍠1)¨⊆⍵}"
   ]
  },
  {
   "cell_type": "code",
   "execution_count": 20,
   "id": "08736d65",
   "metadata": {},
   "outputs": [
    {
     "data": {
      "text/html": [
       "<pre class=\"language-APL\">┌─────────┬────┬─────────────────────┬────────┐\n",
       "│README.md│4305│2024 3 9 14  2  3  88│YYOGA\\yy│\n",
       "│rm.md    │4305│2024 3 9 17 17 18 451│YYOGA\\yy│\n",
       "└─────────┴────┴─────────────────────┴────────┘\n",
       "</pre>"
      ]
     },
     "execution_count": 20,
     "metadata": {},
     "output_type": "execute_result"
    },
    {
     "data": {
      "text/html": [
       "<pre class=\"language-APL\">1\n",
       "</pre>"
      ]
     },
     "execution_count": 20,
     "metadata": {},
     "output_type": "execute_result"
    },
    {
     "data": {
      "text/html": [
       "<pre class=\"language-APL\">┌─────────────┬────┬─────────────────────┬────────┐\n",
       "│README.md    │4305│2024 3 9 14  2  3  88│YYOGA\\yy│\n",
       "│test/t1/rm.md│4305│2024 3 9 17 17 18 451│YYOGA\\yy│\n",
       "└─────────────┴────┴─────────────────────┴────────┘\n",
       "</pre>"
      ]
     },
     "execution_count": 20,
     "metadata": {},
     "output_type": "execute_result"
    }
   ],
   "source": [
    "⍪∘↑¨ls'*.md' 'test/t1/*'\n",
    "⊢'test/t1'mv'rm.md'\n",
    "⍪∘↑¨ls'*.md' 'test/t1/*'"
   ]
  },
  {
   "cell_type": "code",
   "execution_count": 21,
   "id": "3238ae5c",
   "metadata": {},
   "outputs": [
    {
     "data": {
      "text/html": [
       "<pre class=\"language-APL\">1\n",
       "</pre>"
      ]
     },
     "execution_count": 21,
     "metadata": {},
     "output_type": "execute_result"
    }
   ],
   "source": [
    "⊢mv'test' ⍝ delete test directory"
   ]
  },
  {
   "cell_type": "markdown",
   "id": "420d8264",
   "metadata": {},
   "source": [
    "## Text editing\n",
    "\n",
    "Most of these functions, and the `ed` operator, take a string or a list of strings, and return a list of strings. A list of strings is interpreted as lines of text. A single string is interpreted as a filename, which is opened and returned as a list of its lines. If the name corresponds to a directory, its contents are returned. The operators `x y g v`, used for text editing, interpret single strings as single lines. `cut` can return a list of texts. The function `wc` returns a number. "
   ]
  },
  {
   "cell_type": "markdown",
   "id": "23bf782c",
   "metadata": {},
   "source": [
    "### cat\n",
    "\n",
    "Concatenates an optional left argument and right argument."
   ]
  },
  {
   "cell_type": "code",
   "execution_count": 22,
   "id": "4b7803c8",
   "metadata": {},
   "outputs": [],
   "source": [
    "cat←{⍺←⊢ ⋄ ⍺,⍥{1<≡⍵:⍵ ⋄ (⊂⍵)∊'.' '..':⊃ls⍵ ⋄ 1=⊃1⎕NINFO⍠1⊢⍵:⊃ls⍵,'/*' ⋄ ⊃⎕NGET⍵1}⍵}"
   ]
  },
  {
   "cell_type": "code",
   "execution_count": 23,
   "id": "87c44def",
   "metadata": {},
   "outputs": [
    {
     "data": {
      "text/html": [
       "<pre class=\"language-APL\">one  \n",
       "two  \n",
       "three\n",
       "</pre>"
      ]
     },
     "execution_count": 23,
     "metadata": {},
     "output_type": "execute_result"
    },
    {
     "data": {
      "text/html": [
       "<pre class=\"language-APL\">one  \n",
       "two  \n",
       "three\n",
       "four \n",
       "</pre>"
      ]
     },
     "execution_count": 23,
     "metadata": {},
     "output_type": "execute_result"
    }
   ],
   "source": [
    "↑cat'one' 'two' 'three'\n",
    "↑'one' 'two'cat'three' 'four'"
   ]
  },
  {
   "cell_type": "code",
   "execution_count": 24,
   "id": "4e0f8ca9",
   "metadata": {},
   "outputs": [
    {
     "data": {
      "text/html": [
       "<pre class=\"language-APL\">.ipynb_checkpoints\n",
       ".linkconfig       \n",
       "*.swp             \n",
       "</pre>"
      ]
     },
     "execution_count": 24,
     "metadata": {},
     "output_type": "execute_result"
    }
   ],
   "source": [
    "↑cat'.gitignore'"
   ]
  },
  {
   "cell_type": "code",
   "execution_count": 25,
   "id": "9a6d1fa8",
   "metadata": {},
   "outputs": [
    {
     "data": {
      "text/html": [
       "<pre class=\"language-APL\">one               \n",
       "two               \n",
       ".ipynb_checkpoints\n",
       ".linkconfig       \n",
       "*.swp             \n",
       "</pre>"
      ]
     },
     "execution_count": 25,
     "metadata": {},
     "output_type": "execute_result"
    }
   ],
   "source": [
    "↑'one' 'two'cat'.gitignore'"
   ]
  },
  {
   "cell_type": "code",
   "execution_count": 26,
   "id": "c0289901",
   "metadata": {},
   "outputs": [
    {
     "data": {
      "text/html": [
       "<pre class=\"language-APL\">.ipynb_checkpoints\n",
       ".linkconfig       \n",
       "*.swp             \n",
       "three             \n",
       "four              \n",
       "</pre>"
      ]
     },
     "execution_count": 26,
     "metadata": {},
     "output_type": "execute_result"
    }
   ],
   "source": [
    "↑'.gitignore'cat'three' 'four'"
   ]
  },
  {
   "cell_type": "code",
   "execution_count": 27,
   "id": "311f60ae",
   "metadata": {},
   "outputs": [
    {
     "data": {
      "text/html": [
       "<pre class=\"language-APL\">.ipynb_checkpoints          \n",
       ".linkconfig                 \n",
       "*.swp                       \n",
       "*.apl? linguist-language=APL\n",
       "</pre>"
      ]
     },
     "execution_count": 27,
     "metadata": {},
     "output_type": "execute_result"
    }
   ],
   "source": [
    "↑'.gitignore'cat'.gitattributes'"
   ]
  },
  {
   "cell_type": "code",
   "execution_count": 28,
   "id": "a73cd63d",
   "metadata": {},
   "outputs": [
    {
     "data": {
      "text/html": [
       "<pre class=\"language-APL\">.ipynb_checkpoints          \n",
       ".linkconfig                 \n",
       "*.swp                       \n",
       "*.apl? linguist-language=APL\n",
       ".ipynb_checkpoints          \n",
       ".linkconfig                 \n",
       "*.swp                       \n",
       "</pre>"
      ]
     },
     "execution_count": 28,
     "metadata": {},
     "output_type": "execute_result"
    }
   ],
   "source": [
    "↑⊃cat/'.gitignore' '.gitattributes' (cat'.gitignore')"
   ]
  },
  {
   "cell_type": "code",
   "execution_count": 29,
   "id": "14d6f09d",
   "metadata": {},
   "outputs": [
    {
     "data": {
      "text/html": [
       "<pre class=\"language-APL\">┌─────────────────────┬───────────────────────────┐\n",
       "│.apl-package.json.swp│../nu/.apl-package.json.swp│\n",
       "│.git/                │../nu/.git/                │\n",
       "│.gitattributes       │../nu/.gitattributes       │\n",
       "│.gitignore           │../nu/.gitignore           │\n",
       "│.ipynb_checkpoints/  │../nu/.ipynb_checkpoints/  │\n",
       "│apl-package.json     │../nu/apl-package.json     │\n",
       "│LICENSE              │../nu/LICENSE              │\n",
       "│nu.apln              │../nu/nu.apln              │\n",
       "│nu.ipynb             │../nu/nu.ipynb             │\n",
       "│README.md            │../nu/README.md            │\n",
       "└─────────────────────┴───────────────────────────┘\n",
       "</pre>"
      ]
     },
     "execution_count": 29,
     "metadata": {},
     "output_type": "execute_result"
    }
   ],
   "source": [
    "↑∘cat¨'.' '../nu'"
   ]
  },
  {
   "cell_type": "markdown",
   "id": "dad3ff72",
   "metadata": {},
   "source": [
    "### tac\n",
    "\n",
    "Concatenates the reversed lines of the right argument with the reversed lines of optional left argument."
   ]
  },
  {
   "cell_type": "code",
   "execution_count": 30,
   "id": "3bb31f33",
   "metadata": {},
   "outputs": [],
   "source": [
    "tac←{0=⎕NC'⍺': ⌽cat⍵ ⋄ ⍵,⍥(⌽cat)⍺}"
   ]
  },
  {
   "cell_type": "code",
   "execution_count": 31,
   "id": "390dcb62",
   "metadata": {},
   "outputs": [
    {
     "data": {
      "text/html": [
       "<pre class=\"language-APL\">three\n",
       "two  \n",
       "one  \n",
       "</pre>"
      ]
     },
     "execution_count": 31,
     "metadata": {},
     "output_type": "execute_result"
    }
   ],
   "source": [
    "↑tac'one' 'two' 'three'"
   ]
  },
  {
   "cell_type": "code",
   "execution_count": 32,
   "id": "c98c0f72",
   "metadata": {},
   "outputs": [
    {
     "data": {
      "text/html": [
       "<pre class=\"language-APL\">four \n",
       "three\n",
       "two  \n",
       "one  \n",
       "</pre>"
      ]
     },
     "execution_count": 32,
     "metadata": {},
     "output_type": "execute_result"
    }
   ],
   "source": [
    "↑'one' 'two'tac'three' 'four'"
   ]
  },
  {
   "cell_type": "markdown",
   "id": "5e9ac51f",
   "metadata": {},
   "source": [
    "### head and tail\n",
    "\n",
    "Return the first or last lines of the right argument specified as left argument, default 10."
   ]
  },
  {
   "cell_type": "code",
   "execution_count": 33,
   "id": "08af8ef6",
   "metadata": {},
   "outputs": [],
   "source": [
    "head←{⍺←10 ⋄ ( ⍺⌊≢⍵)↑⍵}∘cat\n",
    "tail←{⍺←10 ⋄ (-⍺⌊≢⍵)↑⍵}∘cat"
   ]
  },
  {
   "cell_type": "code",
   "execution_count": 34,
   "id": "e5f0ae5a",
   "metadata": {},
   "outputs": [
    {
     "data": {
      "text/html": [
       "<pre class=\"language-APL\">┌─────────────────────────┬─────────────────────────┬─────────────────────────┬─────────────────────────┐\n",
       "│MIT License              │MIT License              │The above copyright notic│FITNESS FOR A PARTICULAR │\n",
       "│                         │                         │copies or substantial por│AUTHORS OR COPYRIGHT HOLD│\n",
       "│Copyright (c) 2024 yiyus │Copyright (c) 2024 yiyus │                         │LIABILITY, WHETHER IN AN │\n",
       "│                         │                         │THE SOFTWARE IS PROVIDED │OUT OF OR IN CONNECTION W│\n",
       "│Permission is hereby gran│Permission is hereby gran│IMPLIED, INCLUDING BUT NO│SOFTWARE.                │\n",
       "│                         │of this software and asso│FITNESS FOR A PARTICULAR │                         │\n",
       "│                         │in the Software without r│AUTHORS OR COPYRIGHT HOLD│                         │\n",
       "│                         │to use, copy, modify, mer│LIABILITY, WHETHER IN AN │                         │\n",
       "│                         │copies of the Software, a│OUT OF OR IN CONNECTION W│                         │\n",
       "│                         │furnished to do so, subje│SOFTWARE.                │                         │\n",
       "└─────────────────────────┴─────────────────────────┴─────────────────────────┴─────────────────────────┘\n",
       "</pre>"
      ]
     },
     "execution_count": 34,
     "metadata": {},
     "output_type": "execute_result"
    }
   ],
   "source": [
    "25↑[2]∘↑¨(5 head'LICENSE')(head'LICENSE')(tail'LICENSE')(5 tail'LICENSE')"
   ]
  },
  {
   "cell_type": "markdown",
   "id": "a6a774e5",
   "metadata": {},
   "source": [
    "### grep and vgrep\n",
    "\n",
    "Return the lines that match or do not match the given regex, default non-whitespace."
   ]
  },
  {
   "cell_type": "code",
   "execution_count": 35,
   "id": "a3680fe3",
   "metadata": {},
   "outputs": [],
   "source": [
    " grep←{⍺←'\\S'    ⋄ ⍵/⍨(0<∘≢⍺⎕S 3)¨⍵}∘cat\n",
    "vgrep←{⍺←'^\\s*$' ⋄ ⍵/⍨(0=∘≢⍺⎕S 3)¨⍵}∘cat"
   ]
  },
  {
   "cell_type": "code",
   "execution_count": 36,
   "id": "e6b7da1d",
   "metadata": {},
   "outputs": [
    {
     "data": {
      "text/html": [
       "<pre class=\"language-APL\">.apl-package.json.swp\n",
       ".gitattributes       \n",
       "apl-package.json     \n",
       "nu.apln              \n",
       "</pre>"
      ]
     },
     "execution_count": 36,
     "metadata": {},
     "output_type": "execute_result"
    },
    {
     "data": {
      "text/html": [
       "<pre class=\"language-APL\">.git/    \n",
       "LICENSE  \n",
       "nu.ipynb \n",
       "README.md\n",
       "</pre>"
      ]
     },
     "execution_count": 36,
     "metadata": {},
     "output_type": "execute_result"
    }
   ],
   "source": [
    "↑'a'grep'.'\n",
    "↑'[ae]'vgrep'.'"
   ]
  },
  {
   "cell_type": "markdown",
   "id": "ec569cd7",
   "metadata": {},
   "source": [
    "### sort\n",
    "\n",
    "Return lines of right argument sorted according to the ascending order for left argument, default right."
   ]
  },
  {
   "cell_type": "code",
   "execution_count": 37,
   "id": "d623b2ad",
   "metadata": {},
   "outputs": [],
   "source": [
    "sort←{⍺←⍵ ⋄ (⊂⍋↑⍺)⌷⍵}∘cat\n",
    "rsort←⌽⍤sort"
   ]
  },
  {
   "cell_type": "code",
   "execution_count": 38,
   "id": "5555bfe0",
   "metadata": {},
   "outputs": [
    {
     "data": {
      "text/html": [
       "<pre class=\"language-APL\">.apl-package.json.swp\n",
       ".git/                \n",
       ".gitattributes       \n",
       ".gitignore           \n",
       ".ipynb_checkpoints/  \n",
       "LICENSE              \n",
       "README.md            \n",
       "apl-package.json     \n",
       "nu.apln              \n",
       "nu.ipynb             \n",
       "</pre>"
      ]
     },
     "execution_count": 38,
     "metadata": {},
     "output_type": "execute_result"
    },
    {
     "data": {
      "text/html": [
       "<pre class=\"language-APL\">one  \n",
       "two  \n",
       "three\n",
       "</pre>"
      ]
     },
     "execution_count": 38,
     "metadata": {},
     "output_type": "execute_result"
    }
   ],
   "source": [
    "↑sort'.'\n",
    "↑'321'sort'three' 'two' 'one'"
   ]
  },
  {
   "cell_type": "code",
   "execution_count": 39,
   "id": "06a0f6c1",
   "metadata": {},
   "outputs": [
    {
     "data": {
      "text/html": [
       "<pre class=\"language-APL\">┌─────────────────────┬─────────────────────┐\n",
       "│.git/                │.git/                │\n",
       "│.ipynb_checkpoints/  │nu.ipynb             │\n",
       "│.gitattributes       │nu.apln              │\n",
       "│.gitignore           │README.md            │\n",
       "│apl-package.json     │.gitignore           │\n",
       "│LICENSE              │.apl-package.json.swp│\n",
       "│README.md            │LICENSE              │\n",
       "│nu.apln              │apl-package.json     │\n",
       "│.apl-package.json.swp│.ipynb_checkpoints/  │\n",
       "│nu.ipynb             │.gitattributes       │\n",
       "└─────────────────────┴─────────────────────┘\n",
       "</pre>"
      ]
     },
     "execution_count": 39,
     "metadata": {},
     "output_type": "execute_result"
    }
   ],
   "source": [
    "↑¨(bytes sort names)(modified rsort names)  ⍝ sort by ascending size and descending modification date"
   ]
  },
  {
   "cell_type": "markdown",
   "id": "056966a3",
   "metadata": {},
   "source": [
    "### cut and join\n",
    "\n",
    "Divide into files for each field or join files for each field using given separator, space by default."
   ]
  },
  {
   "cell_type": "code",
   "execution_count": 40,
   "id": "be0d06fd",
   "metadata": {},
   "outputs": [],
   "source": [
    "cut←{⍺←' ' ⋄ ↓⍉↑⍺(≠⊆⊢)¨⊆⍵}∘cat"
   ]
  },
  {
   "cell_type": "code",
   "execution_count": 41,
   "id": "da559040",
   "metadata": {
    "scrolled": false
   },
   "outputs": [
    {
     "data": {
      "text/html": [
       "<pre class=\"language-APL\">┌──────┬────────────┐\n",
       "│┌────┐│┌──────────┐│\n",
       "││NOT │││UNIX      ││\n",
       "│├────┤│├──────────┤│\n",
       "││    │││          ││\n",
       "│├────┤│├──────────┤│\n",
       "││File│││management││\n",
       "│└────┘│└──────────┘│\n",
       "└──────┴────────────┘\n",
       "</pre>"
      ]
     },
     "execution_count": 41,
     "metadata": {},
     "output_type": "execute_result"
    }
   ],
   "source": [
    "⍪¨cut 3 head'README.md'"
   ]
  },
  {
   "cell_type": "code",
   "execution_count": 42,
   "id": "08a7ecbe",
   "metadata": {},
   "outputs": [],
   "source": [
    "join←{⍺←' '⊣⍣(2<|≡⍵)⊢⎕UCS 10 ⋄ (0∘≤∧3∘>)≡⍵:⊃(⊣,⍺,⊢)/cat⍵ ⋄ ⊃(↓⍤⍕⍤↑⍤⊣,¨⍺,¨⊢)/cat⍣(0≤≡⍵)⊢⍵}"
   ]
  },
  {
   "cell_type": "code",
   "execution_count": 43,
   "id": "3879a3d9",
   "metadata": {
    "scrolled": false
   },
   "outputs": [
    {
     "data": {
      "text/html": [
       "<pre class=\"language-APL\">┌───────────────┐\n",
       "│NOT  UNIX      │\n",
       "├───────────────┤\n",
       "│               │\n",
       "├───────────────┤\n",
       "│File management│\n",
       "└───────────────┘\n",
       "</pre>"
      ]
     },
     "execution_count": 43,
     "metadata": {},
     "output_type": "execute_result"
    },
    {
     "data": {
      "text/html": [
       "<pre class=\"language-APL\">.apl-package.json.swp\n",
       ".git/\n",
       ".gitattributes\n",
       ".gitignore\n",
       ".ipynb_checkpoints/\n",
       "apl-package.json\n",
       "LICENSE\n",
       "nu.apln\n",
       "nu.ipynb\n",
       "README.md\n",
       "</pre>"
      ]
     },
     "execution_count": 43,
     "metadata": {},
     "output_type": "execute_result"
    }
   ],
   "source": [
    "⍪join cut 3 head'README.md'\n",
    "join'.'"
   ]
  },
  {
   "cell_type": "code",
   "execution_count": 44,
   "id": "c8e951c4",
   "metadata": {
    "scrolled": true
   },
   "outputs": [
    {
     "data": {
      "text/html": [
       "<pre class=\"language-APL\">┌───────────────┐\n",
       "│NOT _UNIX      │\n",
       "├───────────────┤\n",
       "│    _          │\n",
       "├───────────────┤\n",
       "│File_management│\n",
       "└───────────────┘\n",
       "</pre>"
      ]
     },
     "execution_count": 44,
     "metadata": {},
     "output_type": "execute_result"
    },
    {
     "data": {
      "text/html": [
       "<pre class=\"language-APL\">.apl-package.json.swp_.git/_.gitattributes_.gitignore_.ipynb_checkpoints/_apl-package.json_LICENSE_nu.apln_nu.ipynb_README.md\n",
       "</pre>"
      ]
     },
     "execution_count": 44,
     "metadata": {},
     "output_type": "execute_result"
    }
   ],
   "source": [
    "⍪'_'join cut 3 head'README.md'\n",
    "'_'join'.'"
   ]
  },
  {
   "cell_type": "code",
   "execution_count": 45,
   "id": "97176ba5",
   "metadata": {},
   "outputs": [
    {
     "data": {
      "text/html": [
       "<pre class=\"language-APL\">┌─────────────────────────────────────────────────────────────────────────────────────────────┐\n",
       "│.apl-package.json.swp 12288 0 29 37 0 482 1062 5734 70764 4305 2024 3 9  0 22 48 790 YYOGA\\yy│\n",
       "├─────────────────────────────────────────────────────────────────────────────────────────────┤\n",
       "│.git/                 12288 0 29 37 0 482 1062 5734 70764 4305 2024 3 9 14  3 17 501 YYOGA\\yy│\n",
       "├─────────────────────────────────────────────────────────────────────────────────────────────┤\n",
       "│.gitattributes        12288 0 29 37 0 482 1062 5734 70764 4305 2024 3 8 19 18 46 634 YYOGA\\yy│\n",
       "├─────────────────────────────────────────────────────────────────────────────────────────────┤\n",
       "│.gitignore            12288 0 29 37 0 482 1062 5734 70764 4305 2024 3 9 13 47 21 708 YYOGA\\yy│\n",
       "├─────────────────────────────────────────────────────────────────────────────────────────────┤\n",
       "│.ipynb_checkpoints/   12288 0 29 37 0 482 1062 5734 70764 4305 2024 3 8 19 23 20 425 YYOGA\\yy│\n",
       "├─────────────────────────────────────────────────────────────────────────────────────────────┤\n",
       "│apl-package.json      12288 0 29 37 0 482 1062 5734 70764 4305 2024 3 8 22 58 40 440 YYOGA\\yy│\n",
       "├─────────────────────────────────────────────────────────────────────────────────────────────┤\n",
       "│LICENSE               12288 0 29 37 0 482 1062 5734 70764 4305 2024 3 9  0 17  2 317 YYOGA\\yy│\n",
       "├─────────────────────────────────────────────────────────────────────────────────────────────┤\n",
       "│nu.apln               12288 0 29 37 0 482 1062 5734 70764 4305 2024 3 9 14  2  3 257 YYOGA\\yy│\n",
       "├─────────────────────────────────────────────────────────────────────────────────────────────┤\n",
       "│nu.ipynb              12288 0 29 37 0 482 1062 5734 70764 4305 2024 3 9 14  2 37 464 YYOGA\\yy│\n",
       "├─────────────────────────────────────────────────────────────────────────────────────────────┤\n",
       "│README.md             12288 0 29 37 0 482 1062 5734 70764 4305 2024 3 9 14  2  3  88 YYOGA\\yy│\n",
       "└─────────────────────────────────────────────────────────────────────────────────────────────┘\n",
       "</pre>"
      ]
     },
     "execution_count": 45,
     "metadata": {},
     "output_type": "execute_result"
    }
   ],
   "source": [
    "⍪join ls'*'"
   ]
  },
  {
   "cell_type": "markdown",
   "id": "10c9e317",
   "metadata": {},
   "source": [
    "### x y g v\n",
    "\n",
    "These operators run the function given as left operand with an optional left argument on the portions of the right argument that match certain condition depending on the regex given as right operand.\n",
    "\n",
    "The operators `g` and `v` will run the function on the lines that match or do not match the right operand. The operators `x` and `y` will run the function on the text that matches or is between matches of the right operand. For these two operators, if the left operand is a string, it is used as substitution string.\n",
    "\n",
    "See: [\"Structural Regular Expressions\" Pike 1987](https://doc.cat-v.org/bell_labs/structural_regexps/)"
   ]
  },
  {
   "cell_type": "code",
   "execution_count": 46,
   "id": "e175abaf",
   "metadata": {},
   "outputs": [],
   "source": [
    "x←{⍺←⊢ ⋄ 3=⎕NC'⍺⍺':⍵⍵⎕R(⍺∘⍺⍺{⍺⍺ ⍵.Match})⍵ ⋄ 3≠⎕NC'⍺':⎕SIGNAL 6 ⋄ ⍵⍵⎕R⍺⍺⊢⍵}\n",
    "y←{⍺←⊢ ⋄ ⍺(⍺⍺x('(?<=(',⍵⍵,')|^)(.*?)(?=(',⍵⍵,')|$)'))⍵}\n",
    "g←{⍺←⊢ ⋄ ⍺∘⍺⍺¨@(0<(≢⍵⍵⎕S⊢)¨)⊆⍵}\n",
    "v←{⍺←⊢ ⋄ ⍺∘⍺⍺¨@(0=(≢⍵⍵⎕S⊢)¨)⊆⍵}"
   ]
  },
  {
   "cell_type": "code",
   "execution_count": 47,
   "id": "e3119409",
   "metadata": {},
   "outputs": [
    {
     "data": {
      "text/html": [
       "<pre class=\"language-APL\">.Apl-pAckAgE.jsOn.swp\n",
       ".gIt/                \n",
       ".gItAttrIbUtEs       \n",
       ".gItIgnOrE           \n",
       ".Ipynb_chEckpOInts/  \n",
       "Apl-pAckAgE.jsOn     \n",
       "LICENSE              \n",
       "nU.Apln              \n",
       "nU.Ipynb             \n",
       "README.md            \n",
       "</pre>"
      ]
     },
     "execution_count": 47,
     "metadata": {},
     "output_type": "execute_result"
    }
   ],
   "source": [
    "↑'\\u0'x'[aeiou]'cat'.'"
   ]
  },
  {
   "cell_type": "code",
   "execution_count": 48,
   "id": "408e427c",
   "metadata": {},
   "outputs": [
    {
     "data": {
      "text/html": [
       "<pre class=\"language-APL\">pws.nosj.&lt;e&gt;g&lt;a&gt;kc&lt;a&gt;p-lp&lt;a&gt;.\n",
       ".git/                        \n",
       "s&lt;e&gt;tubirtt&lt;a&gt;tig.           \n",
       ".gitignore                   \n",
       ".ipynb_checkpoints/          \n",
       "nosj.&lt;e&gt;g&lt;a&gt;kc&lt;a&gt;p-lp&lt;a&gt;     \n",
       "LICENSE                      \n",
       "nu.apln                      \n",
       "nu.ipynb                     \n",
       "README.md                    \n",
       "</pre>"
      ]
     },
     "execution_count": 48,
     "metadata": {},
     "output_type": "execute_result"
    }
   ],
   "source": [
    "↑'<&>'x'a|e'∘⌽g'a.*e'cat'.'"
   ]
  },
  {
   "cell_type": "markdown",
   "id": "297dbba3",
   "metadata": {},
   "source": [
    "### tee\n",
    "\n",
    "Return right argument after writing it to a file, stdout by default. It will also format the output of `ls`."
   ]
  },
  {
   "cell_type": "code",
   "execution_count": 49,
   "id": "86e1a030",
   "metadata": {},
   "outputs": [],
   "source": [
    "tee←{w←⍕(⍪∘↑¨⊂[2])⍣(0>≡⍵)↑⍵ ⋄ 0=⎕NC'⍺':_←⍵⊣⎕←w ⋄ _←(⊂↓w)⎕NPUT⍺1 ⋄ _←⍵}"
   ]
  },
  {
   "cell_type": "code",
   "execution_count": 50,
   "id": "2cac0d07",
   "metadata": {},
   "outputs": [
    {
     "data": {
      "text/html": [
       "<pre class=\"language-APL\">.apl-package.json.swp\n",
       ".git/                \n",
       ".gitattributes       \n",
       ".gitignore           \n",
       ".ipynb_checkpoints/  \n",
       "apl-package.json     \n",
       "LICENSE              \n",
       "nu.apln              \n",
       "nu.ipynb             \n",
       "README.md            \n",
       "</pre>"
      ]
     },
     "execution_count": 50,
     "metadata": {},
     "output_type": "execute_result"
    }
   ],
   "source": [
    "tee cat'.'"
   ]
  },
  {
   "cell_type": "code",
   "execution_count": 51,
   "id": "10e31ad0",
   "metadata": {},
   "outputs": [
    {
     "data": {
      "text/html": [
       "<pre class=\"language-APL\"> .apl-package.json.swp  12288  2024 3 9  0 22 48 790  YYOGA\\yy \n",
       " .git/                      0  2024 3 9 14  3 17 501  YYOGA\\yy \n",
       " .gitattributes            29  2024 3 8 19 18 46 634  YYOGA\\yy \n",
       " .gitignore                37  2024 3 9 13 47 21 708  YYOGA\\yy \n",
       " .ipynb_checkpoints/        0  2024 3 8 19 23 20 425  YYOGA\\yy \n",
       " apl-package.json         482  2024 3 8 22 58 40 440  YYOGA\\yy \n",
       " LICENSE                 1062  2024 3 9  0 17  2 317  YYOGA\\yy \n",
       " nu.apln                 5734  2024 3 9 14  2  3 257  YYOGA\\yy \n",
       " nu.ipynb               70764  2024 3 9 14  2 37 464  YYOGA\\yy \n",
       " README.md               4305  2024 3 9 14  2  3  88  YYOGA\\yy \n",
       "</pre>"
      ]
     },
     "execution_count": 51,
     "metadata": {},
     "output_type": "execute_result"
    }
   ],
   "source": [
    "tee ls'.'"
   ]
  },
  {
   "cell_type": "code",
   "execution_count": 52,
   "id": "0953cae5",
   "metadata": {},
   "outputs": [],
   "source": [
    "'t1.txt'tee cat'.'"
   ]
  },
  {
   "cell_type": "code",
   "execution_count": 53,
   "id": "48b6d604",
   "metadata": {
    "scrolled": true
   },
   "outputs": [
    {
     "data": {
      "text/html": [
       "<pre class=\"language-APL\"> .apl-package.json.swp  12288  2024 3 9  0 22 48 790  YYOGA\\yy \n",
       " .git/                      0  2024 3 9 14  3 17 501  YYOGA\\yy \n",
       " .gitattributes            29  2024 3 8 19 18 46 634  YYOGA\\yy \n",
       " .gitignore                37  2024 3 9 13 47 21 708  YYOGA\\yy \n",
       " .ipynb_checkpoints/        0  2024 3 8 19 23 20 425  YYOGA\\yy \n",
       " apl-package.json         482  2024 3 8 22 58 40 440  YYOGA\\yy \n",
       " LICENSE                 1062  2024 3 9  0 17  2 317  YYOGA\\yy \n",
       " nu.apln                 5734  2024 3 9 14  2  3 257  YYOGA\\yy \n",
       " nu.ipynb               70764  2024 3 9 14  2 37 464  YYOGA\\yy \n",
       " README.md               4305  2024 3 9 14  2  3  88  YYOGA\\yy \n",
       " t1.txt                   230  2024 3 9 17 17 24 349  YYOGA\\yy \n",
       "</pre>"
      ]
     },
     "execution_count": 53,
     "metadata": {},
     "output_type": "execute_result"
    }
   ],
   "source": [
    "'t2.txt'tee tee ls'.'"
   ]
  },
  {
   "cell_type": "markdown",
   "id": "77413f70",
   "metadata": {},
   "source": [
    "### ed\n",
    "\n",
    "Run function given as left operand with optional left argument on contents of file given as right argument and write the results back to the file, returning it."
   ]
  },
  {
   "cell_type": "code",
   "execution_count": 54,
   "id": "898caffb",
   "metadata": {},
   "outputs": [],
   "source": [
    "ed←{⍺←⊢ ⋄ _←⍵ tee ⍺ ⍺⍺ cat ⍵}"
   ]
  },
  {
   "cell_type": "code",
   "execution_count": 55,
   "id": "ec9d9c0e",
   "metadata": {},
   "outputs": [
    {
     "data": {
      "text/html": [
       "<pre class=\"language-APL\"> .&lt;a&gt;pl-p&lt;a&gt;ck&lt;a&gt;g&lt;e&gt;.js&lt;o&gt;n.swp  12288  2024 3 9  0 22 48 790  YYOGA\\yy \n",
       " .g&lt;i&gt;t/                      0  2024 3 9 14  3 17 501  YYOGA\\yy         \n",
       " .g&lt;i&gt;t&lt;a&gt;ttr&lt;i&gt;b&lt;u&gt;t&lt;e&gt;s            29  2024 3 8 19 18 46 634  YYOGA\\yy \n",
       " .g&lt;i&gt;t&lt;i&gt;gn&lt;o&gt;r&lt;e&gt;                37  2024 3 9 13 47 21 708  YYOGA\\yy   \n",
       " .&lt;i&gt;pynb_ch&lt;e&gt;ckp&lt;oi&gt;nts/        0  2024 3 8 19 23 20 425  YYOGA\\yy     \n",
       " &lt;a&gt;pl-p&lt;a&gt;ck&lt;a&gt;g&lt;e&gt;.js&lt;o&gt;n         482  2024 3 8 22 58 40 440  YYOGA\\yy \n",
       " LICENSE                 1062  2024 3 9  0 17  2 317  YYOGA\\yy           \n",
       " n&lt;u&gt;.&lt;a&gt;pln                 5734  2024 3 9 14  2  3 257  YYOGA\\yy       \n",
       " n&lt;u&gt;.&lt;i&gt;pynb               70764  2024 3 9 14  2 37 464  YYOGA\\yy       \n",
       " README.md               4305  2024 3 9 14  2  3  88  YYOGA\\yy           \n",
       " t1.txt                   230  2024 3 9 17 17 24 349  YYOGA\\yy           \n",
       "</pre>"
      ]
     },
     "execution_count": 55,
     "metadata": {},
     "output_type": "execute_result"
    }
   ],
   "source": [
    "'<&>'x'[aeiou]+'ed't2.txt'\n",
    "tee cat't2.txt'\n",
    "mv't?.txt'"
   ]
  },
  {
   "cell_type": "markdown",
   "id": "d3d4f66d",
   "metadata": {},
   "source": [
    "### wc\n",
    "\n",
    "Count occurences of left argument on right argument, words by default."
   ]
  },
  {
   "cell_type": "code",
   "execution_count": 56,
   "id": "4d04e355",
   "metadata": {},
   "outputs": [],
   "source": [
    "wc←{⍺←'\\S+' ⋄ +/(≢⍺⎕S⊢)¨⍵}∘cat"
   ]
  },
  {
   "cell_type": "code",
   "execution_count": 57,
   "id": "c62dac4a",
   "metadata": {},
   "outputs": [
    {
     "data": {
      "text/html": [
       "<pre class=\"language-APL\">442\n",
       "</pre>"
      ]
     },
     "execution_count": 57,
     "metadata": {},
     "output_type": "execute_result"
    }
   ],
   "source": [
    "wc'README.md'"
   ]
  },
  {
   "cell_type": "code",
   "execution_count": 58,
   "id": "3bf341b1",
   "metadata": {},
   "outputs": [
    {
     "data": {
      "text/html": [
       "<pre class=\"language-APL\">23\n",
       "</pre>"
      ]
     },
     "execution_count": 58,
     "metadata": {},
     "output_type": "execute_result"
    }
   ],
   "source": [
    "'default'wc'README.md'"
   ]
  },
  {
   "cell_type": "markdown",
   "id": "cfb42405",
   "metadata": {},
   "source": [
    "### find\n",
    "\n",
    "Find files which match a condition given as left operand which must be either a function executed on a namespace with the results of `ls` (and names `name bytes modified owner`) or a regex which must match the name. The search is performed in the directory (or directories) given as left argument, default `'.'`."
   ]
  },
  {
   "cell_type": "code",
   "execution_count": 59,
   "id": "ddc25afd",
   "metadata": {},
   "outputs": [],
   "source": [
    "]dinput\n",
    "find←{\n",
    "    0≠⎕NC'⍺':⊃,/⍺∇{⍺⍺pushd⍺⊢⍵}¨⍥(⊆∘,∘⊆)⍵\n",
    "    l←↓⍉↑ls⊃,/⊃¨⎕NINFO⍠1⍠'Recurse'(2 ¯1)⊆,⊆⍵\n",
    "    3≠⎕NC'⍺⍺':((0<⍺⍺∘wc∘⊂¨)⊢⍤/⊢)⍣(0<≢⍺⍺)⊃↓⍉↑l\n",
    "    n←⎕NS⍬ ⋄ (⍺⍺{n.(name bytes modified owner)←⍵ ⋄ ⍺⍺n}¨l)/⊃↓⍉↑l\n",
    "}"
   ]
  },
  {
   "cell_type": "code",
   "execution_count": 60,
   "id": "04db21a0",
   "metadata": {},
   "outputs": [
    {
     "data": {
      "text/html": [
       "<pre class=\"language-APL\">┌────────────────┐\n",
       "│apl-package.json│\n",
       "└────────────────┘\n",
       "</pre>"
      ]
     },
     "execution_count": 60,
     "metadata": {},
     "output_type": "execute_result"
    },
    {
     "data": {
      "text/html": [
       "<pre class=\"language-APL\">┌───────┬────────┐\n",
       "│nu.apln│nu.ipynb│\n",
       "└───────┴────────┘\n",
       "</pre>"
      ]
     },
     "execution_count": 60,
     "metadata": {},
     "output_type": "execute_result"
    },
    {
     "data": {
      "text/html": [
       "<pre class=\"language-APL\">┌───────┬────────┬────────────────┐\n",
       "│nu.apln│nu.ipynb│apl-package.json│\n",
       "└───────┴────────┴────────────────┘\n",
       "</pre>"
      ]
     },
     "execution_count": 60,
     "metadata": {},
     "output_type": "execute_result"
    }
   ],
   "source": [
    "''find'*.json'\n",
    "''find'nu.*'\n",
    "''find'nu.*' '*.json'"
   ]
  },
  {
   "cell_type": "code",
   "execution_count": 61,
   "id": "5612301a",
   "metadata": {},
   "outputs": [
    {
     "data": {
      "text/html": [
       "<pre class=\"language-APL\">┌────────────────┐\n",
       "│apl-package.json│\n",
       "└────────────────┘\n",
       "</pre>"
      ]
     },
     "execution_count": 61,
     "metadata": {},
     "output_type": "execute_result"
    },
    {
     "data": {
      "text/html": [
       "<pre class=\"language-APL\">┌───────┬────────┐\n",
       "│nu.apln│nu.ipynb│\n",
       "└───────┴────────┘\n",
       "</pre>"
      ]
     },
     "execution_count": 61,
     "metadata": {},
     "output_type": "execute_result"
    },
    {
     "data": {
      "text/html": [
       "<pre class=\"language-APL\">┌───────┬────────┬────────────────┐\n",
       "│nu.apln│nu.ipynb│apl-package.json│\n",
       "└───────┴────────┴────────────────┘\n",
       "</pre>"
      ]
     },
     "execution_count": 61,
     "metadata": {},
     "output_type": "execute_result"
    }
   ],
   "source": [
    "'../nu'(''find)'*.json'\n",
    "'../nu'(''find)'nu.*'\n",
    "'../nu'(''find)'nu.*' '*.json'"
   ]
  },
  {
   "cell_type": "code",
   "execution_count": 62,
   "id": "ba9ba2c8",
   "metadata": {
    "scrolled": false
   },
   "outputs": [
    {
     "data": {
      "text/html": [
       "<pre class=\"language-APL\">┌────────────────┐\n",
       "│apl-package.json│\n",
       "├────────────────┤\n",
       "│LICENSE         │\n",
       "├────────────────┤\n",
       "│nu.apln         │\n",
       "├────────────────┤\n",
       "│nu.ipynb        │\n",
       "├────────────────┤\n",
       "│README.md       │\n",
       "└────────────────┘\n",
       "</pre>"
      ]
     },
     "execution_count": 62,
     "metadata": {},
     "output_type": "execute_result"
    },
    {
     "data": {
      "text/html": [
       "<pre class=\"language-APL\">┌──────────────────────────────────────────────────────┐\n",
       "│.apl-package.json.swp                                 │\n",
       "├──────────────────────────────────────────────────────┤\n",
       "│.git/objects/05/ee92e8ed6605a13b78b0cf749fe6f89c13dc1d│\n",
       "├──────────────────────────────────────────────────────┤\n",
       "│.git/objects/0e/defc24cd6147035440684626f2a6160f68304e│\n",
       "├──────────────────────────────────────────────────────┤\n",
       "│.git/objects/1b/c9ef43b8f0267ae3455a822d3880896a13dc3c│\n",
       "├──────────────────────────────────────────────────────┤\n",
       "│.git/objects/aa/8ac39579c35169a9847f00bdf27e00da8e63d1│\n",
       "├──────────────────────────────────────────────────────┤\n",
       "│.git/objects/bb/31836343f1fd90b168abec11f7fcc9c0111445│\n",
       "├──────────────────────────────────────────────────────┤\n",
       "│.git/objects/f7/747e16caf64f7f483cbab2867053f33728ed5d│\n",
       "├──────────────────────────────────────────────────────┤\n",
       "│.ipynb_checkpoints/nu-checkpoint.ipynb                │\n",
       "├──────────────────────────────────────────────────────┤\n",
       "│nu.apln                                               │\n",
       "├──────────────────────────────────────────────────────┤\n",
       "│nu.ipynb                                              │\n",
       "└──────────────────────────────────────────────────────┘\n",
       "</pre>"
      ]
     },
     "execution_count": 62,
     "metadata": {},
     "output_type": "execute_result"
    },
    {
     "data": {
      "text/html": [
       "<pre class=\"language-APL\">┌─────────┐\n",
       "│README.md│\n",
       "└─────────┘\n",
       "</pre>"
      ]
     },
     "execution_count": 62,
     "metadata": {},
     "output_type": "execute_result"
    },
    {
     "data": {
      "text/html": [
       "<pre class=\"language-APL\">┌────────────────┐\n",
       "│.gitattributes  │\n",
       "├────────────────┤\n",
       "│apl-package.json│\n",
       "└────────────────┘\n",
       "</pre>"
      ]
     },
     "execution_count": 62,
     "metadata": {},
     "output_type": "execute_result"
    }
   ],
   "source": [
    "⍪'^[^.]'find'*'                                          ⍝ non-hidden files\n",
    "⍪{⍵.bytes>5×2*10}find'*'                                 ⍝ files larger that 5M\n",
    "⍪{0<'yy'wc⊂⍵.owner}find'*.md'                            ⍝ files owned by yy\n",
    "⍪{(2024 3 8≡⍵.modified[⍳3])∧'.git/'≢5↑⍵.name}find'*a*e*' ⍝ files modified the 8 of March of 2024 not in .git/"
   ]
  },
  {
   "cell_type": "markdown",
   "id": "22a64955",
   "metadata": {},
   "source": [
    "## Summary (namespace with manual)"
   ]
  },
  {
   "cell_type": "code",
   "execution_count": 63,
   "id": "ea5f3b2b",
   "metadata": {},
   "outputs": [],
   "source": [
    ":Namespace nu ⍝ not unix yy@yiyus.info 2024\n",
    "\n",
    "⍝ file management\n",
    "'Files'⎕CY'files'\n",
    "∇ r←{a}cd w\n",
    "    r←Files.GetCurrentDirectory ⋄ Files.SetCurrentDirectory¨⊆w\n",
    "    :If 0≠⎕NC'a'\n",
    "        Files.SetCurrentDirectory¨⊆a ⋄ r←Files.GetCurrentDirectory\n",
    "    :EndIf\n",
    "∇\n",
    "pushd←{⍺←⊢ ⋄ d←cd⍵⍵ ⋄ r←⍺ ⍺⍺ ⍵ ⋄ _←cd d ⋄ r}\n",
    "mkdir←{0≠⎕NC'⍺':_←+/∇pushd⍺¨⊆⍵ ⋄ _←+/3⎕MKDIR¨⊆⍵}\n",
    "   mv←{⍺←'.' ⋄ _←⊃+/(⊆⍺)⎕NMOVE¨⊃,/(⎕NINFO⍠1)¨⊆⍵}\n",
    "   cp←{⍺←'.' ⋄ _←+/(⊆⍺)(⎕NCOPY⍠'IfExists' 'Replace')¨⊃,/(⎕NINFO⍠1)¨⊆⍵}\n",
    "   ls←{⍺←0 ⋄ 2({'/',⍨¨@((1=⍵)⍨)⍺}/⍤↑,↓)⊃,¨/0 1 2 3 5∘(⎕NINFO⍠1⍠'Recurse'(2⍺))¨(⊂'../*')@(≡∘'..'¨)'*'@(≡∘'.'¨)⊆⍵}\n",
    "\n",
    "⍝ text editing\n",
    "  cat←{⍺←⊢ ⋄ ⍺,⍥{1<≡⍵:⍵ ⋄ (⊂⍵)∊'.' '..':⊃ls⍵ ⋄ 1=⊃1⎕NINFO⍠1⊢⍵:⊃ls⍵,'/*' ⋄ ⊃⎕NGET⍵1}⍵}\n",
    "  tac←{0=⎕NC'⍺': ⌽cat⍵ ⋄ ⍵,⍥(⌽cat)⍺}\n",
    " head←{⍺←10 ⋄ ( ⍺⌊≢⍵)↑⍵}∘cat ⋄  grep←{0=⎕NC'⍺':∇∘man⊢⍵ ⋄ /⍨∘((0<∘≢⍺⎕S 3)¨)⍨cat⍵} ⋄  sort←{⍺←⍵ ⋄ (⊂⍋↑⍺)⌷⍵}∘cat\n",
    " tail←{⍺←10 ⋄ (-⍺⌊≢⍵)↑⍵}∘cat ⋄ vgrep←{⍺←'^\\s*$'        ⋄ /⍨∘((0=∘≢⍺⎕S 3)¨)⍨cat⍵} ⋄ rsort←⌽⍤sort\n",
    "   ed←{⍺←⊢ ⋄ _←⍵ tee ⍺ ⍺⍺ cat ⍵}\n",
    "    x←{⍺←⊢ ⋄ 3=⎕NC'⍺⍺':⍵⍵⎕R(⍺∘⍺⍺{⍺⍺ ⍵.Match})⍵ ⋄ 3≠⎕NC'⍺':⎕SIGNAL 6 ⋄ ⍵⍵⎕R⍺⍺⊢⍵}\n",
    "    y←{⍺←⊢ ⋄ ⍺(⍺⍺x('(?<=(',⍵⍵,')|^)(.*?)(?=(',⍵⍵,')|$)'))⍵}\n",
    "    g←{⍺←⊢ ⋄ ⍺∘⍺⍺¨@(0<(≢⍵⍵⎕S⊢)¨)⊆⍵}\n",
    "    v←{⍺←⊢ ⋄ ⍺∘⍺⍺¨@(0=(≢⍵⍵⎕S⊢)¨)⊆⍵}\n",
    "  cut←{⍺←' ' ⋄ ↓⍉↑⍺(≠⊆⊢)¨⍵}∘cat\n",
    " join←{⍺←' '⊣⍣(2<≡⍵)⊢⎕UCS 10 ⋄ 2>≡⍵:⍵ ⋄ 2=≡⍵:⊃(⊣,⍺,⊢)/⍵ ⋄ ⊃(⊣,¨⍺,¨⊢)/⍵}∘cat\n",
    "  tee←{w←⍕(⍪∘↑¨⊂[2])⍣(0>≡⍵)↑⍵ ⋄ 0=⎕NC'⍺':_←⍵⊣⎕←w ⋄ _←⍵⊣(⊂↓w)⎕NPUT⍺1}\n",
    "   wc←{⍺←'\\S+' ⋄ +/(≢⍺⎕S⊢)¨⍵}∘cat\n",
    " find←{\n",
    "        0≠⎕NC'⍺':⊃,/⍺∇{⍺⍺pushd⍺⊢⍵}¨⍥(⊆∘,∘⊆)⍵ ⋄ l←↓⍉↑ls⊃,/⊃¨⎕NINFO⍠1⍠'Recurse'(2 ¯1)⊆,⊆⍵\n",
    "        3≠⎕NC'⍺⍺':((0<⍺⍺∘wc∘⊂¨)⊢⍤/⊢)⍣(0<≢⍺⍺)⊃↓⍉↑l ⋄ n←⎕NS⍬ ⋄ (⍺⍺{n.(name bytes modified owner)←⍵ ⋄ ⍺⍺n}¨l)/⊃↓⍉↑l\n",
    "      }\n",
    "\n",
    "⍝ manual\n",
    " man ←⊂'NOT UNIX'\n",
    " man,←⊂''\n",
    " man,←⊂'File management'\n",
    " man,←⊂''\n",
    " man,←⊂'           d1 ls f1 f2 ...    list f1 f2 ... into dir d1, default 0'\n",
    " man,←⊂'    f3 f4 ... mv f1 f2 ...    move f1 f2 ... to f3 f4 ... (scalar extension), default /dev/null'\n",
    " man,←⊂'    f3 f4 ... cp f1 f2 ...    copy f1 f2 ... to f3 f4 ... (scalar extension), default .'\n",
    " man,←⊂'        d3 mkdir d1 d2 ...    make dirs d1 d2 ... into dir d3, default .'\n",
    " man,←⊂'              cd d1 d2 ...    change to directory d1/d2/... and return dir before changing'\n",
    " man,←⊂'    d3 d4 ... cd d1 d2 ...    change to directory d1/d2/.../d3/d4/... and return dir after changing'\n",
    " man,←⊂'           ⍺(⍺⍺ pushd d1)⍵    change to d1, run ⍺ ⍺⍺ ⍵ and return to current dir, default ⊢'\n",
    " man,←⊂''\n",
    " man,←⊂'    with f1 f2 f3 f4 ... file (or dir) names, d1 d2 d3 d4 ... dir names, and n number'\n",
    " man,←⊂''\n",
    " man,←⊂'Text editing'\n",
    " man,←⊂''\n",
    " man,←⊂'           t2 cat t1    concatenate contents of t1 and t2, default ⍬'\n",
    " man,←⊂'           t2 tac t1    concatenate reverse contents of t2 and t1, default ⍬'\n",
    " man,←⊂'           n head t1    get first n lines of t1, default 10'\n",
    " man,←⊂'           n tail t1    get last n lines of t1, default 10'\n",
    " man,←⊂'          r  grep t1    get lines of t1 that match s, default grep this manul'\n",
    " man,←⊂'          r vgrep t1    get lines of t1 that do not match s, default empty lines'\n",
    " man,←⊂'          ⍺  sort t1    ascending sort lines of t1 according to ⍺, default t1'\n",
    " man,←⊂'          ⍺ rsort t1    descending sort lines of t1 according to ⍺, default t1'\n",
    " man,←⊂'           ⍺(⍺⍺ ed)f    run ⍺ ⍺⍺ cat f and save to f, default ⊢'\n",
    " man,←⊂'         ⍺(⍺⍺ x ⍵⍵)s    substitute by ⍺⍺ or run ⍺∘⍺⍺ on matches of ⍵⍵ in s, default ⊢'\n",
    " man,←⊂'         ⍺(⍺⍺ y ⍵⍵)s    substitute by ⍺⍺ or run ⍺∘⍺⍺ between matches of ⍵⍵ in s, default ⊢'\n",
    " man,←⊂'         ⍺(⍺⍺ g ⍵⍵)s    run ⍺∘⍺⍺ s if s matches ⍵⍵, default ⊢'\n",
    " man,←⊂'         ⍺(⍺⍺ v ⍵⍵)s    run ⍺∘⍺⍺ s if s does not match ⍵⍵, default ⊢'\n",
    " man,←⊂'            c cut t1    cut t1 in fields with separator c, default space'\n",
    " man,←⊂'    c join t1 t2 ...    join lines of t1 t2 ... with c, default space or new line'\n",
    " man,←⊂'            f tee t1    save t1 to file f and return it, default stdout'\n",
    " man,←⊂'             r wc t1    count occurences of r in t1, default words'\n",
    " man,←⊂'         d(⍺⍺ find)f    find file f with condition ⍺⍺ true, or matching ⍺⍺ at d, default .'\n",
    " man,←⊂'                        (⍺⍺ gets a namespace argument with fields name bytes modified owner)'\n",
    " man,←⊂''\n",
    " man,←⊂'    with t1 t2 ... text (string with dir or file name, or list of lines), n number,'\n",
    " man,←⊂'    r regex (as a string), s string, c character, f file name and d dir name'\n",
    " man,←⊂''\n",
    " man,←⊂'TODO: sed, awk, mkfifo, error checking (!), tests (!!), ...'\n",
    " man,←⊂'SEE ALSO: unix, gnu, plan 9'\n",
    "     \n",
    ":EndNamespace"
   ]
  },
  {
   "cell_type": "code",
   "execution_count": 64,
   "id": "0fb58813",
   "metadata": {
    "scrolled": false
   },
   "outputs": [],
   "source": [
    "nu.(tee∘man)'README.md'"
   ]
  },
  {
   "cell_type": "code",
   "execution_count": 65,
   "id": "989f5bd8",
   "metadata": {},
   "outputs": [
    {
     "data": {
      "text/html": [
       "<pre class=\"language-APL\">Exported: #.nu →  C:/Users/34696/jupyter/nu/nu.apln \n",
       "</pre>"
      ]
     },
     "execution_count": 65,
     "metadata": {},
     "output_type": "execute_result"
    }
   ],
   "source": [
    "]LINK.Export nu . -overwrite"
   ]
  }
 ],
 "metadata": {
  "kernelspec": {
   "display_name": "Dyalog APL",
   "language": "apl",
   "name": "dyalog-kernel"
  },
  "language_info": {
   "file_extension": ".apl",
   "mimetype": "text/apl",
   "name": "APL"
  }
 },
 "nbformat": 4,
 "nbformat_minor": 5
}
